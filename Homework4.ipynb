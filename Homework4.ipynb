{
  "nbformat": 4,
  "nbformat_minor": 0,
  "metadata": {
    "colab": {
      "provenance": [],
      "authorship_tag": "ABX9TyNhnXk/Ho+WO1ON8NBRtElg",
      "include_colab_link": true
    },
    "kernelspec": {
      "name": "python3",
      "display_name": "Python 3"
    },
    "language_info": {
      "name": "python"
    }
  },
  "cells": [
    {
      "cell_type": "markdown",
      "metadata": {
        "id": "view-in-github",
        "colab_type": "text"
      },
      "source": [
        "<a href=\"https://colab.research.google.com/github/EloiMolla/SSN/blob/main/Homework4.ipynb\" target=\"_parent\"><img src=\"https://colab.research.google.com/assets/colab-badge.svg\" alt=\"Open In Colab\"/></a>"
      ]
    },
    {
      "cell_type": "markdown",
      "source": [
        "Eloi Mollà\n",
        "\n",
        "---\n",
        "**Homework 4 - Càlculs fent servir el mètode de Monte Carlo**\n",
        "\n",
        "*Càlcul del volum d'una esfera i càlcul d'integració d'una funció*\n",
        "\n",
        "Simulació de Sistemes Nanomèrics - Març 2025\n",
        "\n",
        "\n",
        "\n",
        "---\n",
        "\n",
        "\n",
        "\n",
        "\n",
        "\n",
        "\n",
        "\n",
        "\n"
      ],
      "metadata": {
        "id": "KNMejXZhOpRG"
      }
    },
    {
      "cell_type": "code",
      "execution_count": 213,
      "metadata": {
        "id": "h0zSU5JtOcL8"
      },
      "outputs": [],
      "source": [
        "#importem llibreries\n",
        "import numpy as np\n",
        "import matplotlib.pyplot as plt"
      ]
    },
    {
      "cell_type": "code",
      "source": [
        "#numero total de punts alatoris\n",
        "total_random_points = int(input(\"\\nEnter number of points for Monte Carlo estimate sphere's volume?\\n>\"))"
      ],
      "metadata": {
        "colab": {
          "base_uri": "https://localhost:8080/"
        },
        "id": "hf4YkLcWQUUX",
        "outputId": "f2d7051d-7072-47bb-8c9e-c48ddb4888d5"
      },
      "execution_count": 214,
      "outputs": [
        {
          "name": "stdout",
          "output_type": "stream",
          "text": [
            "\n",
            "Enter number of points for Monte Carlo estimate sphere's volume?\n",
            ">100\n"
          ]
        }
      ]
    },
    {
      "cell_type": "code",
      "source": [
        "#punt d'inici per contar els punts dins l'esfra i dins el cub\n",
        "inside_sphere = 0\n",
        "inside_cube = 0"
      ],
      "metadata": {
        "id": "cqJULI5_QfJU"
      },
      "execution_count": 215,
      "outputs": []
    },
    {
      "cell_type": "code",
      "source": [
        "#llistes de punts dins l'esfera i dins del cub però fora l'esfera\n",
        "#dins espera (sphere)\n",
        "xs = []\n",
        "ys = []\n",
        "zs = []\n",
        "\n",
        "#dins cub\n",
        "xc = []\n",
        "yc = []\n",
        "zc = []"
      ],
      "metadata": {
        "id": "7SlLvSLBQ0tR"
      },
      "execution_count": 216,
      "outputs": []
    },
    {
      "cell_type": "code",
      "source": [
        "#càlcul\n",
        "while (inside_sphere<total_random_points):\n",
        "  #generar punt\n",
        "  x = np.random.uniform(-1.0, 1.0)\n",
        "  y = np.random.uniform(-1.0, 1.0)\n",
        "  z = np.random.uniform(-1.0, 1.0)\n",
        "\n",
        "  #punts dins cub\n",
        "  inside_cube = inside_cube + 1\n",
        "\n",
        "  #mirem si estan dins de l'esfera\n",
        "  if x**2 + y**2 + z**2 <= 1:\n",
        "    inside_sphere = inside_sphere + 1\n",
        "    xs.append(x)\n",
        "    ys.append(y)\n",
        "    zs.append(z)\n",
        "  else:\n",
        "    xc.append(x)\n",
        "    yc.append(y)\n",
        "    zc.append(z)\n"
      ],
      "metadata": {
        "id": "ZALsFM-TRSvN"
      },
      "execution_count": 217,
      "outputs": []
    },
    {
      "cell_type": "code",
      "source": [
        "sphere_ratio = inside_sphere / inside_cube\n",
        "#volum del cub es 8\n",
        "volume_approx = 8 * sphere_ratio"
      ],
      "metadata": {
        "id": "oBTmSTYbSfpb"
      },
      "execution_count": 218,
      "outputs": []
    },
    {
      "cell_type": "code",
      "source": [
        "# Print output\n",
        "print('\\n--------------')\n",
        "print('\\nResult')\n",
        "print('\\nNumber of points inside cube of volume 8:', inside_cube)\n",
        "print('Number of points inside unit sphere:',inside_sphere,)\n",
        "print('Ratio unit sphere/full cube=',sphere_ratio*100,'%')\n",
        "print('\\nEstimated volume of unit sphere =',sphere_ratio,'x Total Volume =', volume_approx)\n",
        "print(' Exact value (Volume sphere):', 4/3 * np.pi)"
      ],
      "metadata": {
        "colab": {
          "base_uri": "https://localhost:8080/"
        },
        "id": "gGoPwx0WXSfw",
        "outputId": "e2c4d56a-a326-4e02-adce-f8e6f808b51f"
      },
      "execution_count": 219,
      "outputs": [
        {
          "output_type": "stream",
          "name": "stdout",
          "text": [
            "\n",
            "--------------\n",
            "\n",
            "Result\n",
            "\n",
            "Number of points inside cube of volume 8: 202\n",
            "Number of points inside unit sphere: 100\n",
            "Ratio unit sphere/full cube= 49.504950495049506 %\n",
            "\n",
            "Estimated volume of unit sphere = 0.49504950495049505 x Total Volume = 3.9603960396039604\n",
            " Exact value (Volume sphere): 4.1887902047863905\n"
          ]
        }
      ]
    },
    {
      "cell_type": "code",
      "source": [
        "#numero total de punts alatoris\n",
        "total_random_points_function = int(input(\"\\nEnter number of points for Monte Carlo estimate function?\\n>\"))"
      ],
      "metadata": {
        "colab": {
          "base_uri": "https://localhost:8080/"
        },
        "id": "Abit4gwcUQW1",
        "outputId": "3dda8c2e-47aa-4f63-a959-8b64050c203e"
      },
      "execution_count": 220,
      "outputs": [
        {
          "name": "stdout",
          "output_type": "stream",
          "text": [
            "\n",
            "Enter number of points for Monte Carlo estimate function?\n",
            ">100\n"
          ]
        }
      ]
    },
    {
      "cell_type": "code",
      "source": [
        "#punt d'inici per contar els punts dins l'esfra i dins el cub\n",
        "function_points = 0\n",
        "non_function_points = 0"
      ],
      "metadata": {
        "id": "XXvBOsARUxKs"
      },
      "execution_count": 221,
      "outputs": []
    },
    {
      "cell_type": "code",
      "source": [
        "#llistes de punts de la funcio i la resta\n",
        "#funció\n",
        "xf = []\n",
        "yf = []\n",
        "\n",
        "#no funció\n",
        "xn = []\n",
        "yn = []\n"
      ],
      "metadata": {
        "id": "lkIEiLy8X2JA"
      },
      "execution_count": 222,
      "outputs": []
    },
    {
      "cell_type": "code",
      "source": [
        "a = 0\n",
        "b = 2\n",
        "max_y = b**2  # Valor màxim de y en el rang"
      ],
      "metadata": {
        "id": "_g0evsPthvry"
      },
      "execution_count": 223,
      "outputs": []
    },
    {
      "cell_type": "code",
      "source": [
        "# Càlcul\n",
        "for _ in range(total_random_points_function):\n",
        "    # Generem un punt aleatori en l'àrea delimitada per (a, b) x (0, max_y)\n",
        "    x = np.random.uniform(a, b)\n",
        "    y = np.random.uniform(0, max_y)\n",
        "\n",
        "    non_function_points = non_function_points + 1\n",
        "\n",
        "    # Comprovem si el punt cau sota la corba y = x^2\n",
        "    if y <= x**2:\n",
        "        function_points = function_points + 1\n",
        "        xf.append(x)\n",
        "        yf.append(y)\n",
        "    else:\n",
        "        xn.append(x)\n",
        "        yn.append(y)"
      ],
      "metadata": {
        "id": "l3hwS5H2kSHM"
      },
      "execution_count": 224,
      "outputs": []
    },
    {
      "cell_type": "code",
      "source": [
        "# Càlcul de l'àrea estimada (integral)\n",
        "area_function = (b - a) * max_y * (function_points / non_function_points)"
      ],
      "metadata": {
        "id": "dW9mkvVYkntF"
      },
      "execution_count": 225,
      "outputs": []
    },
    {
      "cell_type": "code",
      "source": [
        "# Valor analític de la integral\n",
        "integral_analytic = (b**3) / 3 - (a**3) / 3"
      ],
      "metadata": {
        "id": "U-YKziaLkr6w"
      },
      "execution_count": 226,
      "outputs": []
    },
    {
      "cell_type": "code",
      "source": [
        "# Resultats\n",
        "print(\"\\nMonte Carlo estimated integral:\", area_function)\n",
        "print(\"Analytical integral:\", integral_analytic)\n",
        "\n",
        "# Representació gràfica\n",
        "plt.figure(figsize=(8,6))\n",
        "plt.scatter(xf, yf, s=1, color='blue', label=\"Punts dins la funció\")\n",
        "plt.scatter(xn, yn, s=1, color='red', label=\"Punts fora la funció\")\n",
        "x_vals = np.linspace(a, b, 100)\n",
        "y_vals = x_vals**2\n",
        "plt.plot(x_vals, y_vals, color='black', label=\"y = x²\")\n",
        "plt.xlabel(\"x\")\n",
        "plt.ylabel(\"y\")\n",
        "plt.legend()\n",
        "plt.title(\"Monte Carlo Integration\")\n",
        "plt.show()"
      ],
      "metadata": {
        "colab": {
          "base_uri": "https://localhost:8080/",
          "height": 616
        },
        "id": "BrZyI3dYkvN0",
        "outputId": "e67b0ca8-50f4-4845-c64b-a20e92481a30"
      },
      "execution_count": 227,
      "outputs": [
        {
          "output_type": "stream",
          "name": "stdout",
          "text": [
            "\n",
            "Monte Carlo estimated integral: 3.12\n",
            "Analytical integral: 2.6666666666666665\n"
          ]
        },
        {
          "output_type": "display_data",
          "data": {
            "text/plain": [
              "<Figure size 800x600 with 1 Axes>"
            ],
            "image/png": "[encoded data removed]"
          },
          "metadata": {}
        }
      ]
    }
  ]
}