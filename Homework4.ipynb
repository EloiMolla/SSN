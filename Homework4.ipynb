{
  "nbformat": 4,
  "nbformat_minor": 0,
  "metadata": {
    "colab": {
      "provenance": [],
      "authorship_tag": "ABX9TyPGJH0x39GR06evl0h1jE5j",
      "include_colab_link": true
    },
    "kernelspec": {
      "name": "python3",
      "display_name": "Python 3"
    },
    "language_info": {
      "name": "python"
    }
  },
  "cells": [
    {
      "cell_type": "markdown",
      "metadata": {
        "id": "view-in-github",
        "colab_type": "text"
      },
      "source": [
        "<a href=\"https://colab.research.google.com/github/EloiMolla/SSN/blob/main/Homework4.ipynb\" target=\"_parent\"><img src=\"https://colab.research.google.com/assets/colab-badge.svg\" alt=\"Open In Colab\"/></a>"
      ]
    },
    {
      "cell_type": "markdown",
      "source": [
        "Eloi Mollà\n",
        "\n",
        "---\n",
        "**Homework 4 - Càlculs fent servir el mètode de Monte Carlo**\n",
        "\n",
        "*Càlcul del volum d'una esfera i càlcul d'integració d'una funció*\n",
        "\n",
        "Simulació de Sistemes Nanomèrics - Març 2025\n",
        "\n",
        "\n",
        "\n",
        "---\n",
        "\n",
        "\n",
        "\n",
        "\n",
        "\n",
        "\n",
        "\n",
        "\n"
      ],
      "metadata": {
        "id": "KNMejXZhOpRG"
      }
    },
    {
      "cell_type": "code",
      "execution_count": null,
      "metadata": {
        "id": "h0zSU5JtOcL8"
      },
      "outputs": [],
      "source": [
        "#importem llibreries\n",
        "import numpy as np\n",
        "import matplotlib.pyplot as plt"
      ]
    },
    {
      "cell_type": "code",
      "source": [
        "#numero total de punts alatoris\n",
        "total_random_points = int(input(\"\\nEnter number of points for Monte Carlo estimate of Pi?\\n>\"))"
      ],
      "metadata": {
        "colab": {
          "base_uri": "https://localhost:8080/"
        },
        "id": "hf4YkLcWQUUX",
        "outputId": "16e2d456-0df4-4c31-f0d9-b55bfe46c4f3"
      },
      "execution_count": null,
      "outputs": [
        {
          "name": "stdout",
          "output_type": "stream",
          "text": [
            "\n",
            "Enter number of points for Monte Carlo estimate of Pi?\n",
            ">100000\n"
          ]
        }
      ]
    },
    {
      "cell_type": "code",
      "source": [
        "#punt d'inici per contar els punts dins l'esfra i dins el cub\n",
        "inside_sphere = 0\n",
        "inside_cube = 0"
      ],
      "metadata": {
        "id": "cqJULI5_QfJU"
      },
      "execution_count": null,
      "outputs": []
    },
    {
      "cell_type": "code",
      "source": [
        "#llistes de punts dins l'esfera i dins del cub però fora l'esfera\n",
        "#dins espera (sphere)\n",
        "xs = []\n",
        "ys = []\n",
        "zs = []\n",
        "\n",
        "#dins cub\n",
        "xc = []\n",
        "yc = []\n",
        "zc = []"
      ],
      "metadata": {
        "id": "7SlLvSLBQ0tR"
      },
      "execution_count": null,
      "outputs": []
    },
    {
      "cell_type": "code",
      "source": [
        "#càlcul\n",
        "while (inside_sphere<total_random_points):\n",
        "  #generar punt\n",
        "  x = np.random.uniform(-1.0, 1.0)\n",
        "  y = np.random.uniform(-1.0, 1.0)\n",
        "  z = np.random.uniform(-1.0, 1.0)\n",
        "\n",
        "  #punts dins cub\n",
        "  inside_cube = inside_cube + 1\n",
        "\n",
        "  #mirem si estan dins de l'esfera\n",
        "  if x**2 + y**2 + z**2 <= 1:\n",
        "    inside_sphere = inside_sphere + 1\n",
        "    xs.append(x)\n",
        "    ys.append(y)\n",
        "    zs.append(z)\n",
        "  else:\n",
        "    xc.append(x)\n",
        "    yc.append(y)\n",
        "    zc.append(z)\n"
      ],
      "metadata": {
        "id": "ZALsFM-TRSvN"
      },
      "execution_count": null,
      "outputs": []
    },
    {
      "cell_type": "code",
      "source": [
        "sphere_ratio = inside_sphere / inside_cube\n",
        "#volum del cub es 8\n",
        "volume_approx = 8 * sphere_ratio"
      ],
      "metadata": {
        "id": "oBTmSTYbSfpb"
      },
      "execution_count": null,
      "outputs": []
    },
    {
      "cell_type": "code",
      "source": [
        "# Print output\n",
        "print('\\n--------------')\n",
        "print('\\nResult')\n",
        "print('\\nNumber of points inside cube of volume 8:', inside_cube)\n",
        "print('Number of points inside unit sphere:',inside_sphere,)\n",
        "print('Ratio unit sphere/full cube=',sphere_ratio*100,'%')\n",
        "print('\\nEstimated volume of unit sphere =',sphere_ratio,'x Total Volume =', volume_approx)\n",
        "print(' Exact value (Volume sphere):', 4/3 * np.pi)"
      ],
      "metadata": {
        "colab": {
          "base_uri": "https://localhost:8080/"
        },
        "id": "gGoPwx0WXSfw",
        "outputId": "d61ff677-22db-42ff-8974-2bdab70ec0c4"
      },
      "execution_count": null,
      "outputs": [
        {
          "output_type": "stream",
          "name": "stdout",
          "text": [
            "\n",
            "--------------\n",
            "\n",
            "Result\n",
            "\n",
            "Number of points inside cube of volume 8: 191054\n",
            "Number of points inside unit sphere: 100000\n",
            "Ratio unit sphere/full cube= 52.34122290033184 %\n",
            "\n",
            "Estimated volume of unit sphere = 0.5234122290033184 x Total Volume = 4.187297832026547\n",
            " Exact value (Volume sphere): 4.1887902047863905\n"
          ]
        }
      ]
    }
  ]
}